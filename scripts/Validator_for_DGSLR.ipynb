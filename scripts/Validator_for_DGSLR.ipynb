{
 "cells": [
  {
   "cell_type": "markdown",
   "metadata": {},
   "source": [
    "# Create a cell (function for calculating the DGSLR index from the input datat)"
   ]
  },
  {
   "cell_type": "code",
   "execution_count": 3,
   "metadata": {
    "collapsed": true
   },
   "outputs": [],
   "source": [
    "import numpy as np"
   ]
  },
  {
   "cell_type": "code",
   "execution_count": 24,
   "metadata": {
    "collapsed": true
   },
   "outputs": [],
   "source": [
    "# function for DGLSR index calculation\n",
    "def calculateDGLSR(data):\n",
    "    ''' \n",
    "        function for calculating the DGLSR index\n",
    "        @Params\n",
    "        data = the numpy array for the input data\n",
    "        \n",
    "        @Return \n",
    "        calculated DGLSR index for the input data\n",
    "    '''\n",
    "    \n",
    "    # The following weights array was derived by using the AHP process for determining\n",
    "    # the influencing parameters\n",
    "    weights_array = np.array([\n",
    "        3.00, # drainage density Very high\n",
    "        2.40, # --===----        High\n",
    "        1.80, # --===----        Moderate\n",
    "        1.20, # --===----        Low\n",
    "        0.60, # --===----        Very Low\n",
    "        6.60, # Geology          Diveghat Formation\n",
    "        5.40, # --===----        Purandargarh formation \n",
    "        4.75, # Slope            Very Steep\n",
    "        4.07, # --===----        Mod. Steep\n",
    "        3.39, # --===----        Strong\n",
    "        2.72, # --===----        Mod. Strong\n",
    "        2.03, # --===----        Gentle\n",
    "        1.36, # --===----        Very Gentle\n",
    "        0.68, # --===----        Nearly level\n",
    "        4.40, # Landform classi  Plateau surface remnants\n",
    "        3.30, # --===----        Plateau fringe surface\n",
    "        2.20, # --===----        Buried Pediment\n",
    "        1.10, # --===----        Rolling Piedmont Plain\n",
    "        4.67, # Landuse/land cov Waste Land\n",
    "        3.73, # --===----        Forest/vegetation\n",
    "        2.80, # --===----        Agriculture Land\n",
    "        1.87, # --===----        Water Bodies\n",
    "        0.93, # --===----        Built-up land\n",
    "        8.33, # Rainfall         < 900mm\n",
    "        6.67, # --===----        900mm - 975mm\n",
    "        5.00, # --===----        975mm - 1050mm\n",
    "        3.33, # --===----        1050mm - 1100mm\n",
    "        1.67, # --===----        > 1100mm\n",
    "        3.33, # Runoff           Very High\n",
    "        2.67, # --===----        High\n",
    "        2.00, # --===----        Moderate\n",
    "        1.33, # --===----        Low\n",
    "        0.67  # --===----        Very Low\n",
    "    ])\n",
    "    \n",
    "    print data.shape, weights_array.shape\n",
    "    \n",
    "    return np.sum(data * weights_array) # formula for calculating the DGSLR index"
   ]
  },
  {
   "cell_type": "code",
   "execution_count": 25,
   "metadata": {
    "collapsed": false
   },
   "outputs": [
    {
     "name": "stdout",
     "output_type": "stream",
     "text": [
      "(7,) (7,)\n"
     ]
    },
    {
     "data": {
      "text/plain": [
       "225.51400000000001"
      ]
     },
     "execution_count": 25,
     "metadata": {},
     "output_type": "execute_result"
    }
   ],
   "source": [
    "# test for the Subwater shed 1\n",
    "calculateDGLSR(np.array([\n",
    "    81.05,\n",
    "    11.17,\n",
    "    6.33,\n",
    "    1.44,\n",
    "    0.00,\n",
    "    48.26,\n",
    "    51.74,\n",
    "    1.81,\n",
    "    9.30,\n",
    "    15.31,\n",
    "    21.88,\n",
    "    11.10,\n",
    "    25.74,\n",
    "    14.87,\n",
    "    16.52,\n",
    "    59.98,\n",
    "    23.50,\n",
    "    0.00,\n",
    "    39.44,\n",
    "    51.41,\n",
    "    6.44,\n",
    "    0.06,\n",
    "    2.65,\n",
    "    0.00,\n",
    "    0.00,\n",
    "    20.07,\n",
    "    56.83,\n",
    "    23.10,\n",
    "    5.28,\n",
    "    31.65,\n",
    "    18.57,\n",
    "    4.40,\n",
    "    40.10\n",
    "]))"
   ]
  },
  {
   "cell_type": "code",
   "execution_count": null,
   "metadata": {
    "collapsed": true
   },
   "outputs": [],
   "source": []
  }
 ],
 "metadata": {
  "kernelspec": {
   "display_name": "Python [Root]",
   "language": "python",
   "name": "Python [Root]"
  },
  "language_info": {
   "codemirror_mode": {
    "name": "ipython",
    "version": 2
   },
   "file_extension": ".py",
   "mimetype": "text/x-python",
   "name": "python",
   "nbconvert_exporter": "python",
   "pygments_lexer": "ipython2",
   "version": "2.7.12"
  }
 },
 "nbformat": 4,
 "nbformat_minor": 0
}
